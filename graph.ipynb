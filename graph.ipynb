{
 "cells": [
  {
   "cell_type": "code",
   "execution_count": null,
   "metadata": {},
   "outputs": [],
   "source": [
    "from itertools import combinations\n",
    "\n",
    "import dgl"
   ]
  },
  {
   "cell_type": "code",
   "execution_count": null,
   "metadata": {},
   "outputs": [],
   "source": [
    "all_authors = set()\n",
    "\n",
    "with open('dataset/paper_author_relationship.csv') as f:\n",
    "    for paper, authors in enumerate(f):\n",
    "        all_authors.update(map(int, authors.split(',')))\n",
    "\n",
    "    author_mapping = {k: v for k, v in zip(all_authors, range(len(all_authors)))}\n",
    "    num_authors = len(all_authors)\n",
    "\n",
    "    f.seek(0)\n",
    "\n",
    "    edges = set()\n",
    "    for paper, authors in enumerate(f):\n",
    "        authors = map(int, authors.split(','))\n",
    "        authors = sorted(author_mapping[author] for author in authors)\n",
    "        clique = combinations(authors, r=2)\n",
    "        edges.update(clique)\n",
    "    graph = dgl.to_bidirected(dgl.graph(tuple(zip(*edges))))\n",
    "\n",
    "dgl.save_graphs('dataset/paper_author_relationship.bin', [graph])\n"
   ]
  }
 ],
 "metadata": {
  "language_info": {
   "name": "python"
  },
  "orig_nbformat": 4
 },
 "nbformat": 4,
 "nbformat_minor": 2
}
