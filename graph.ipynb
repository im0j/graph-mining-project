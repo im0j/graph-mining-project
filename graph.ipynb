{
 "cells": [
  {
   "cell_type": "code",
   "execution_count": 1,
   "metadata": {},
   "outputs": [
    {
     "name": "stderr",
     "output_type": "stream",
     "text": [
      "Using backend: pytorch\n"
     ]
    }
   ],
   "source": [
    "from itertools import combinations\n",
    "import os.path\n",
    "\n",
    "import pandas as pd\n",
    "import torch\n",
    "from torch import nn\n",
    "import dgl"
   ]
  },
  {
   "cell_type": "code",
   "execution_count": 2,
   "metadata": {},
   "outputs": [
    {
     "data": {
      "text/plain": [
       "Graph(num_nodes=61442, num_edges=818254,\n",
       "      ndata_schemes={}\n",
       "      edata_schemes={})"
      ]
     },
     "execution_count": 2,
     "metadata": {},
     "output_type": "execute_result"
    }
   ],
   "source": [
    "all_authors = set()\n",
    "\n",
    "if os.path.isfile('dataset/paper_author_relationship.bin'):\n",
    "    graph = dgl.load_graphs('dataset/paper_author_relationship.bin')[0][0]\n",
    "else:\n",
    "    with open('dataset/paper_author_relationship.csv') as f:\n",
    "        for paper, authors in enumerate(f):\n",
    "            all_authors.update(map(int, authors.split(',')))\n",
    "\n",
    "        author_mapping = {k: v for k, v in zip(all_authors, range(len(all_authors)))}\n",
    "        num_authors = len(all_authors)\n",
    "\n",
    "        f.seek(0)\n",
    "\n",
    "        edges = set()\n",
    "        for paper, authors in enumerate(f):\n",
    "            authors = map(int, authors.split(','))\n",
    "            authors = sorted(author_mapping[author] for author in authors)\n",
    "            clique = combinations(authors, r=2)\n",
    "            edges.update(clique)\n",
    "\n",
    "        graph = dgl.to_bidirected(dgl.graph(tuple(zip(*edges))))\n",
    "\n",
    "    dgl.save_graphs('dataset/paper_author_relationship.bin', [graph])\n",
    "\n",
    "graph"
   ]
  },
  {
   "cell_type": "code",
   "execution_count": 3,
   "metadata": {},
   "outputs": [],
   "source": [
    "node_features = 16"
   ]
  },
  {
   "cell_type": "code",
   "execution_count": 4,
   "metadata": {},
   "outputs": [
    {
     "data": {
      "text/plain": [
       "Graph(num_nodes=61442, num_edges=818254,\n",
       "      ndata_schemes={'x': Scheme(shape=(16,), dtype=torch.float32)}\n",
       "      edata_schemes={})"
      ]
     },
     "execution_count": 4,
     "metadata": {},
     "output_type": "execute_result"
    }
   ],
   "source": [
    "graph.ndata['x'] = nn.Parameter(torch.Tensor(graph.num_nodes(), node_features))\n",
    "nn.init.xavier_uniform_(graph.ndata['x'])\n",
    "graph"
   ]
  }
 ],
 "metadata": {
  "interpreter": {
   "hash": "767d51c1340bd893661ea55ea3124f6de3c7a262a8b4abca0554b478b1e2ff90"
  },
  "kernelspec": {
   "display_name": "Python 3.8.10 64-bit",
   "language": "python",
   "name": "python3"
  },
  "language_info": {
   "codemirror_mode": {
    "name": "ipython",
    "version": 3
   },
   "file_extension": ".py",
   "mimetype": "text/x-python",
   "name": "python",
   "nbconvert_exporter": "python",
   "pygments_lexer": "ipython3",
   "version": "3.6.14"
  },
  "orig_nbformat": 4
 },
 "nbformat": 4,
 "nbformat_minor": 2
}
